{
 "cells": [
  {
   "cell_type": "code",
   "execution_count": 2,
   "id": "8dfe8b00",
   "metadata": {},
   "outputs": [],
   "source": [
    "import pandas as pd\n",
    "import numpy as np\n",
    "import seaborn as sns\n",
    "import matplotlib.pyplot as plt\n",
    "%matplotlib inline"
   ]
  },
  {
   "cell_type": "code",
   "execution_count": 3,
   "id": "953f76d7",
   "metadata": {},
   "outputs": [],
   "source": [
    "df = pd.read_csv('housing.csv')"
   ]
  },
  {
   "cell_type": "code",
   "execution_count": 4,
   "id": "3fa9e376",
   "metadata": {},
   "outputs": [],
   "source": [
    "df = df.fillna(0)"
   ]
  },
  {
   "cell_type": "code",
   "execution_count": 5,
   "id": "e80a82d2",
   "metadata": {},
   "outputs": [
    {
     "data": {
      "text/plain": [
       "longitude             0\n",
       "latitude              0\n",
       "housing_median_age    0\n",
       "total_rooms           0\n",
       "total_bedrooms        0\n",
       "population            0\n",
       "households            0\n",
       "median_income         0\n",
       "median_house_value    0\n",
       "ocean_proximity       0\n",
       "dtype: int64"
      ]
     },
     "execution_count": 5,
     "metadata": {},
     "output_type": "execute_result"
    }
   ],
   "source": [
    "df.isnull().sum()"
   ]
  },
  {
   "cell_type": "code",
   "execution_count": 6,
   "id": "109bc5d7",
   "metadata": {},
   "outputs": [],
   "source": [
    "df = df.copy()\n",
    "df['rooms_per_household'] = df['total_rooms'] / df['households']\n",
    "df['bedrooms_per_room'] = df['total_bedrooms'] / df['total_rooms']\n",
    "df['population_per_household'] = df['population'] / df['households']\n"
   ]
  },
  {
   "cell_type": "code",
   "execution_count": 7,
   "id": "d23d73fa",
   "metadata": {},
   "outputs": [
    {
     "data": {
      "text/plain": [
       "0    <1H OCEAN\n",
       "Name: ocean_proximity, dtype: object"
      ]
     },
     "execution_count": 7,
     "metadata": {},
     "output_type": "execute_result"
    }
   ],
   "source": [
    "df['ocean_proximity'].mode()"
   ]
  },
  {
   "cell_type": "code",
   "execution_count": 8,
   "id": "f2870d3c",
   "metadata": {},
   "outputs": [],
   "source": [
    "from sklearn.model_selection import train_test_split"
   ]
  },
  {
   "cell_type": "code",
   "execution_count": 9,
   "id": "cec761f8",
   "metadata": {},
   "outputs": [],
   "source": [
    "df_full_train, df_test = train_test_split(df, test_size=0.2, random_state=42)\n",
    "df_train, df_val = train_test_split(df_full_train, test_size=0.25, random_state=42)"
   ]
  },
  {
   "cell_type": "code",
   "execution_count": 10,
   "id": "94fb986f",
   "metadata": {},
   "outputs": [
    {
     "data": {
      "text/plain": [
       "(12384, 4128, 4128)"
      ]
     },
     "execution_count": 10,
     "metadata": {},
     "output_type": "execute_result"
    }
   ],
   "source": [
    "len(df_train), len(df_val), len(df_test)"
   ]
  },
  {
   "cell_type": "code",
   "execution_count": 14,
   "id": "6b67df0a",
   "metadata": {},
   "outputs": [
    {
     "data": {
      "text/plain": [
       "207194.6937378876"
      ]
     },
     "execution_count": 14,
     "metadata": {},
     "output_type": "execute_result"
    }
   ],
   "source": [
    "house_mean_value = df_full_train.median_house_value.mean()\n",
    "house_mean_value"
   ]
  },
  {
   "cell_type": "code",
   "execution_count": 15,
   "id": "caa29ac3",
   "metadata": {},
   "outputs": [],
   "source": [
    "df_full_train['above_average'] = df_full_train.median_house_value >= house_mean_value\n"
   ]
  },
  {
   "cell_type": "code",
   "execution_count": 179,
   "id": "e0ec1792",
   "metadata": {},
   "outputs": [],
   "source": [
    "df.above_average = (df.above_average == True).astype(int)\n"
   ]
  },
  {
   "cell_type": "code",
   "execution_count": 180,
   "id": "caa98734",
   "metadata": {},
   "outputs": [
    {
     "data": {
      "text/html": [
       "<div>\n",
       "<style scoped>\n",
       "    .dataframe tbody tr th:only-of-type {\n",
       "        vertical-align: middle;\n",
       "    }\n",
       "\n",
       "    .dataframe tbody tr th {\n",
       "        vertical-align: top;\n",
       "    }\n",
       "\n",
       "    .dataframe thead th {\n",
       "        text-align: right;\n",
       "    }\n",
       "</style>\n",
       "<table border=\"1\" class=\"dataframe\">\n",
       "  <thead>\n",
       "    <tr style=\"text-align: right;\">\n",
       "      <th></th>\n",
       "      <th>longitude</th>\n",
       "      <th>latitude</th>\n",
       "      <th>housing_median_age</th>\n",
       "      <th>total_rooms</th>\n",
       "      <th>total_bedrooms</th>\n",
       "      <th>population</th>\n",
       "      <th>households</th>\n",
       "      <th>median_income</th>\n",
       "      <th>median_house_value</th>\n",
       "      <th>ocean_proximity</th>\n",
       "      <th>rooms_per_household</th>\n",
       "      <th>bedrooms_per_room</th>\n",
       "      <th>population_per_household</th>\n",
       "      <th>above_average</th>\n",
       "    </tr>\n",
       "  </thead>\n",
       "  <tbody>\n",
       "    <tr>\n",
       "      <th>14196</th>\n",
       "      <td>-117.03</td>\n",
       "      <td>32.71</td>\n",
       "      <td>33.0</td>\n",
       "      <td>3126.0</td>\n",
       "      <td>627.0</td>\n",
       "      <td>2300.0</td>\n",
       "      <td>623.0</td>\n",
       "      <td>3.2596</td>\n",
       "      <td>103000.0</td>\n",
       "      <td>NEAR OCEAN</td>\n",
       "      <td>5.017657</td>\n",
       "      <td>0.200576</td>\n",
       "      <td>3.691814</td>\n",
       "      <td>0</td>\n",
       "    </tr>\n",
       "    <tr>\n",
       "      <th>8267</th>\n",
       "      <td>-118.16</td>\n",
       "      <td>33.77</td>\n",
       "      <td>49.0</td>\n",
       "      <td>3382.0</td>\n",
       "      <td>787.0</td>\n",
       "      <td>1314.0</td>\n",
       "      <td>756.0</td>\n",
       "      <td>3.8125</td>\n",
       "      <td>382100.0</td>\n",
       "      <td>NEAR OCEAN</td>\n",
       "      <td>4.473545</td>\n",
       "      <td>0.232703</td>\n",
       "      <td>1.738095</td>\n",
       "      <td>1</td>\n",
       "    </tr>\n",
       "    <tr>\n",
       "      <th>17445</th>\n",
       "      <td>-120.48</td>\n",
       "      <td>34.66</td>\n",
       "      <td>4.0</td>\n",
       "      <td>1897.0</td>\n",
       "      <td>331.0</td>\n",
       "      <td>915.0</td>\n",
       "      <td>336.0</td>\n",
       "      <td>4.1563</td>\n",
       "      <td>172600.0</td>\n",
       "      <td>NEAR OCEAN</td>\n",
       "      <td>5.645833</td>\n",
       "      <td>0.174486</td>\n",
       "      <td>2.723214</td>\n",
       "      <td>0</td>\n",
       "    </tr>\n",
       "    <tr>\n",
       "      <th>14265</th>\n",
       "      <td>-117.11</td>\n",
       "      <td>32.69</td>\n",
       "      <td>36.0</td>\n",
       "      <td>1421.0</td>\n",
       "      <td>367.0</td>\n",
       "      <td>1418.0</td>\n",
       "      <td>355.0</td>\n",
       "      <td>1.9425</td>\n",
       "      <td>93400.0</td>\n",
       "      <td>NEAR OCEAN</td>\n",
       "      <td>4.002817</td>\n",
       "      <td>0.258269</td>\n",
       "      <td>3.994366</td>\n",
       "      <td>0</td>\n",
       "    </tr>\n",
       "    <tr>\n",
       "      <th>2271</th>\n",
       "      <td>-119.80</td>\n",
       "      <td>36.78</td>\n",
       "      <td>43.0</td>\n",
       "      <td>2382.0</td>\n",
       "      <td>431.0</td>\n",
       "      <td>874.0</td>\n",
       "      <td>380.0</td>\n",
       "      <td>3.5542</td>\n",
       "      <td>96500.0</td>\n",
       "      <td>INLAND</td>\n",
       "      <td>6.268421</td>\n",
       "      <td>0.180940</td>\n",
       "      <td>2.300000</td>\n",
       "      <td>0</td>\n",
       "    </tr>\n",
       "  </tbody>\n",
       "</table>\n",
       "</div>"
      ],
      "text/plain": [
       "       longitude  latitude  housing_median_age  total_rooms  total_bedrooms  \\\n",
       "14196    -117.03     32.71                33.0       3126.0           627.0   \n",
       "8267     -118.16     33.77                49.0       3382.0           787.0   \n",
       "17445    -120.48     34.66                 4.0       1897.0           331.0   \n",
       "14265    -117.11     32.69                36.0       1421.0           367.0   \n",
       "2271     -119.80     36.78                43.0       2382.0           431.0   \n",
       "\n",
       "       population  households  median_income  median_house_value  \\\n",
       "14196      2300.0       623.0         3.2596            103000.0   \n",
       "8267       1314.0       756.0         3.8125            382100.0   \n",
       "17445       915.0       336.0         4.1563            172600.0   \n",
       "14265      1418.0       355.0         1.9425             93400.0   \n",
       "2271        874.0       380.0         3.5542             96500.0   \n",
       "\n",
       "      ocean_proximity  rooms_per_household  bedrooms_per_room  \\\n",
       "14196      NEAR OCEAN             5.017657           0.200576   \n",
       "8267       NEAR OCEAN             4.473545           0.232703   \n",
       "17445      NEAR OCEAN             5.645833           0.174486   \n",
       "14265      NEAR OCEAN             4.002817           0.258269   \n",
       "2271           INLAND             6.268421           0.180940   \n",
       "\n",
       "       population_per_household  above_average  \n",
       "14196                  3.691814              0  \n",
       "8267                   1.738095              1  \n",
       "17445                  2.723214              0  \n",
       "14265                  3.994366              0  \n",
       "2271                   2.300000              0  "
      ]
     },
     "execution_count": 180,
     "metadata": {},
     "output_type": "execute_result"
    }
   ],
   "source": [
    "df_full_train.head()"
   ]
  },
  {
   "cell_type": "code",
   "execution_count": 18,
   "id": "e4d38774",
   "metadata": {},
   "outputs": [
    {
     "data": {
      "text/plain": [
       "0    0.593144\n",
       "1    0.406856\n",
       "Name: above_average, dtype: float64"
      ]
     },
     "execution_count": 18,
     "metadata": {},
     "output_type": "execute_result"
    }
   ],
   "source": [
    "df_full_train.above_average.value_counts(normalize=True)\n"
   ]
  },
  {
   "cell_type": "code",
   "execution_count": 19,
   "id": "2fb122fb",
   "metadata": {
    "scrolled": true
   },
   "outputs": [
    {
     "data": {
      "text/html": [
       "<div>\n",
       "<style scoped>\n",
       "    .dataframe tbody tr th:only-of-type {\n",
       "        vertical-align: middle;\n",
       "    }\n",
       "\n",
       "    .dataframe tbody tr th {\n",
       "        vertical-align: top;\n",
       "    }\n",
       "\n",
       "    .dataframe thead th {\n",
       "        text-align: right;\n",
       "    }\n",
       "</style>\n",
       "<table border=\"1\" class=\"dataframe\">\n",
       "  <thead>\n",
       "    <tr style=\"text-align: right;\">\n",
       "      <th></th>\n",
       "      <th>longitude</th>\n",
       "      <th>latitude</th>\n",
       "      <th>housing_median_age</th>\n",
       "      <th>total_rooms</th>\n",
       "      <th>total_bedrooms</th>\n",
       "      <th>population</th>\n",
       "      <th>households</th>\n",
       "      <th>median_income</th>\n",
       "      <th>median_house_value</th>\n",
       "      <th>rooms_per_household</th>\n",
       "      <th>bedrooms_per_room</th>\n",
       "      <th>population_per_household</th>\n",
       "      <th>above_average</th>\n",
       "    </tr>\n",
       "  </thead>\n",
       "  <tbody>\n",
       "    <tr>\n",
       "      <th>longitude</th>\n",
       "      <td>1.000000</td>\n",
       "      <td>-0.924485</td>\n",
       "      <td>-0.101818</td>\n",
       "      <td>0.038676</td>\n",
       "      <td>0.063064</td>\n",
       "      <td>0.094276</td>\n",
       "      <td>0.049306</td>\n",
       "      <td>-0.017040</td>\n",
       "      <td>-0.046349</td>\n",
       "      <td>-0.029339</td>\n",
       "      <td>0.097280</td>\n",
       "      <td>-0.000598</td>\n",
       "      <td>-0.074333</td>\n",
       "    </tr>\n",
       "    <tr>\n",
       "      <th>latitude</th>\n",
       "      <td>-0.924485</td>\n",
       "      <td>1.000000</td>\n",
       "      <td>0.005296</td>\n",
       "      <td>-0.029224</td>\n",
       "      <td>-0.059998</td>\n",
       "      <td>-0.102499</td>\n",
       "      <td>-0.064061</td>\n",
       "      <td>-0.076571</td>\n",
       "      <td>-0.142983</td>\n",
       "      <td>0.110695</td>\n",
       "      <td>-0.118938</td>\n",
       "      <td>0.005837</td>\n",
       "      <td>-0.097202</td>\n",
       "    </tr>\n",
       "    <tr>\n",
       "      <th>housing_median_age</th>\n",
       "      <td>-0.101818</td>\n",
       "      <td>0.005296</td>\n",
       "      <td>1.000000</td>\n",
       "      <td>-0.360922</td>\n",
       "      <td>-0.320624</td>\n",
       "      <td>-0.292283</td>\n",
       "      <td>-0.302796</td>\n",
       "      <td>-0.121711</td>\n",
       "      <td>0.103706</td>\n",
       "      <td>-0.160892</td>\n",
       "      <td>0.135495</td>\n",
       "      <td>0.016245</td>\n",
       "      <td>0.077366</td>\n",
       "    </tr>\n",
       "    <tr>\n",
       "      <th>total_rooms</th>\n",
       "      <td>0.038676</td>\n",
       "      <td>-0.029224</td>\n",
       "      <td>-0.360922</td>\n",
       "      <td>1.000000</td>\n",
       "      <td>0.930489</td>\n",
       "      <td>0.857936</td>\n",
       "      <td>0.920482</td>\n",
       "      <td>0.198268</td>\n",
       "      <td>0.133989</td>\n",
       "      <td>0.136090</td>\n",
       "      <td>-0.189316</td>\n",
       "      <td>-0.024991</td>\n",
       "      <td>0.129528</td>\n",
       "    </tr>\n",
       "    <tr>\n",
       "      <th>total_bedrooms</th>\n",
       "      <td>0.063064</td>\n",
       "      <td>-0.059998</td>\n",
       "      <td>-0.320624</td>\n",
       "      <td>0.930489</td>\n",
       "      <td>1.000000</td>\n",
       "      <td>0.878932</td>\n",
       "      <td>0.980255</td>\n",
       "      <td>-0.009141</td>\n",
       "      <td>0.047980</td>\n",
       "      <td>-0.001659</td>\n",
       "      <td>0.084149</td>\n",
       "      <td>-0.028536</td>\n",
       "      <td>0.057973</td>\n",
       "    </tr>\n",
       "    <tr>\n",
       "      <th>population</th>\n",
       "      <td>0.094276</td>\n",
       "      <td>-0.102499</td>\n",
       "      <td>-0.292283</td>\n",
       "      <td>0.857936</td>\n",
       "      <td>0.878932</td>\n",
       "      <td>1.000000</td>\n",
       "      <td>0.907452</td>\n",
       "      <td>0.004122</td>\n",
       "      <td>-0.026032</td>\n",
       "      <td>-0.073733</td>\n",
       "      <td>0.035134</td>\n",
       "      <td>0.072330</td>\n",
       "      <td>-0.014167</td>\n",
       "    </tr>\n",
       "    <tr>\n",
       "      <th>households</th>\n",
       "      <td>0.049306</td>\n",
       "      <td>-0.064061</td>\n",
       "      <td>-0.302796</td>\n",
       "      <td>0.920482</td>\n",
       "      <td>0.980255</td>\n",
       "      <td>0.907452</td>\n",
       "      <td>1.000000</td>\n",
       "      <td>0.012776</td>\n",
       "      <td>0.063714</td>\n",
       "      <td>-0.083062</td>\n",
       "      <td>0.064185</td>\n",
       "      <td>-0.027656</td>\n",
       "      <td>0.075293</td>\n",
       "    </tr>\n",
       "    <tr>\n",
       "      <th>median_income</th>\n",
       "      <td>-0.017040</td>\n",
       "      <td>-0.076571</td>\n",
       "      <td>-0.121711</td>\n",
       "      <td>0.198268</td>\n",
       "      <td>-0.009141</td>\n",
       "      <td>0.004122</td>\n",
       "      <td>0.012776</td>\n",
       "      <td>1.000000</td>\n",
       "      <td>0.690647</td>\n",
       "      <td>0.336013</td>\n",
       "      <td>-0.616669</td>\n",
       "      <td>0.022061</td>\n",
       "      <td>0.542839</td>\n",
       "    </tr>\n",
       "    <tr>\n",
       "      <th>median_house_value</th>\n",
       "      <td>-0.046349</td>\n",
       "      <td>-0.142983</td>\n",
       "      <td>0.103706</td>\n",
       "      <td>0.133989</td>\n",
       "      <td>0.047980</td>\n",
       "      <td>-0.026032</td>\n",
       "      <td>0.063714</td>\n",
       "      <td>0.690647</td>\n",
       "      <td>1.000000</td>\n",
       "      <td>0.158485</td>\n",
       "      <td>-0.257419</td>\n",
       "      <td>-0.022030</td>\n",
       "      <td>0.804533</td>\n",
       "    </tr>\n",
       "    <tr>\n",
       "      <th>rooms_per_household</th>\n",
       "      <td>-0.029339</td>\n",
       "      <td>0.110695</td>\n",
       "      <td>-0.160892</td>\n",
       "      <td>0.136090</td>\n",
       "      <td>-0.001659</td>\n",
       "      <td>-0.073733</td>\n",
       "      <td>-0.083062</td>\n",
       "      <td>0.336013</td>\n",
       "      <td>0.158485</td>\n",
       "      <td>1.000000</td>\n",
       "      <td>-0.435169</td>\n",
       "      <td>-0.004922</td>\n",
       "      <td>0.116057</td>\n",
       "    </tr>\n",
       "    <tr>\n",
       "      <th>bedrooms_per_room</th>\n",
       "      <td>0.097280</td>\n",
       "      <td>-0.118938</td>\n",
       "      <td>0.135495</td>\n",
       "      <td>-0.189316</td>\n",
       "      <td>0.084149</td>\n",
       "      <td>0.035134</td>\n",
       "      <td>0.064185</td>\n",
       "      <td>-0.616669</td>\n",
       "      <td>-0.257419</td>\n",
       "      <td>-0.435169</td>\n",
       "      <td>1.000000</td>\n",
       "      <td>0.003938</td>\n",
       "      <td>-0.225355</td>\n",
       "    </tr>\n",
       "    <tr>\n",
       "      <th>population_per_household</th>\n",
       "      <td>-0.000598</td>\n",
       "      <td>0.005837</td>\n",
       "      <td>0.016245</td>\n",
       "      <td>-0.024991</td>\n",
       "      <td>-0.028536</td>\n",
       "      <td>0.072330</td>\n",
       "      <td>-0.027656</td>\n",
       "      <td>0.022061</td>\n",
       "      <td>-0.022030</td>\n",
       "      <td>-0.004922</td>\n",
       "      <td>0.003938</td>\n",
       "      <td>1.000000</td>\n",
       "      <td>-0.021230</td>\n",
       "    </tr>\n",
       "    <tr>\n",
       "      <th>above_average</th>\n",
       "      <td>-0.074333</td>\n",
       "      <td>-0.097202</td>\n",
       "      <td>0.077366</td>\n",
       "      <td>0.129528</td>\n",
       "      <td>0.057973</td>\n",
       "      <td>-0.014167</td>\n",
       "      <td>0.075293</td>\n",
       "      <td>0.542839</td>\n",
       "      <td>0.804533</td>\n",
       "      <td>0.116057</td>\n",
       "      <td>-0.225355</td>\n",
       "      <td>-0.021230</td>\n",
       "      <td>1.000000</td>\n",
       "    </tr>\n",
       "  </tbody>\n",
       "</table>\n",
       "</div>"
      ],
      "text/plain": [
       "                          longitude  latitude  housing_median_age  \\\n",
       "longitude                  1.000000 -0.924485           -0.101818   \n",
       "latitude                  -0.924485  1.000000            0.005296   \n",
       "housing_median_age        -0.101818  0.005296            1.000000   \n",
       "total_rooms                0.038676 -0.029224           -0.360922   \n",
       "total_bedrooms             0.063064 -0.059998           -0.320624   \n",
       "population                 0.094276 -0.102499           -0.292283   \n",
       "households                 0.049306 -0.064061           -0.302796   \n",
       "median_income             -0.017040 -0.076571           -0.121711   \n",
       "median_house_value        -0.046349 -0.142983            0.103706   \n",
       "rooms_per_household       -0.029339  0.110695           -0.160892   \n",
       "bedrooms_per_room          0.097280 -0.118938            0.135495   \n",
       "population_per_household  -0.000598  0.005837            0.016245   \n",
       "above_average             -0.074333 -0.097202            0.077366   \n",
       "\n",
       "                          total_rooms  total_bedrooms  population  households  \\\n",
       "longitude                    0.038676        0.063064    0.094276    0.049306   \n",
       "latitude                    -0.029224       -0.059998   -0.102499   -0.064061   \n",
       "housing_median_age          -0.360922       -0.320624   -0.292283   -0.302796   \n",
       "total_rooms                  1.000000        0.930489    0.857936    0.920482   \n",
       "total_bedrooms               0.930489        1.000000    0.878932    0.980255   \n",
       "population                   0.857936        0.878932    1.000000    0.907452   \n",
       "households                   0.920482        0.980255    0.907452    1.000000   \n",
       "median_income                0.198268       -0.009141    0.004122    0.012776   \n",
       "median_house_value           0.133989        0.047980   -0.026032    0.063714   \n",
       "rooms_per_household          0.136090       -0.001659   -0.073733   -0.083062   \n",
       "bedrooms_per_room           -0.189316        0.084149    0.035134    0.064185   \n",
       "population_per_household    -0.024991       -0.028536    0.072330   -0.027656   \n",
       "above_average                0.129528        0.057973   -0.014167    0.075293   \n",
       "\n",
       "                          median_income  median_house_value  \\\n",
       "longitude                     -0.017040           -0.046349   \n",
       "latitude                      -0.076571           -0.142983   \n",
       "housing_median_age            -0.121711            0.103706   \n",
       "total_rooms                    0.198268            0.133989   \n",
       "total_bedrooms                -0.009141            0.047980   \n",
       "population                     0.004122           -0.026032   \n",
       "households                     0.012776            0.063714   \n",
       "median_income                  1.000000            0.690647   \n",
       "median_house_value             0.690647            1.000000   \n",
       "rooms_per_household            0.336013            0.158485   \n",
       "bedrooms_per_room             -0.616669           -0.257419   \n",
       "population_per_household       0.022061           -0.022030   \n",
       "above_average                  0.542839            0.804533   \n",
       "\n",
       "                          rooms_per_household  bedrooms_per_room  \\\n",
       "longitude                           -0.029339           0.097280   \n",
       "latitude                             0.110695          -0.118938   \n",
       "housing_median_age                  -0.160892           0.135495   \n",
       "total_rooms                          0.136090          -0.189316   \n",
       "total_bedrooms                      -0.001659           0.084149   \n",
       "population                          -0.073733           0.035134   \n",
       "households                          -0.083062           0.064185   \n",
       "median_income                        0.336013          -0.616669   \n",
       "median_house_value                   0.158485          -0.257419   \n",
       "rooms_per_household                  1.000000          -0.435169   \n",
       "bedrooms_per_room                   -0.435169           1.000000   \n",
       "population_per_household            -0.004922           0.003938   \n",
       "above_average                        0.116057          -0.225355   \n",
       "\n",
       "                          population_per_household  above_average  \n",
       "longitude                                -0.000598      -0.074333  \n",
       "latitude                                  0.005837      -0.097202  \n",
       "housing_median_age                        0.016245       0.077366  \n",
       "total_rooms                              -0.024991       0.129528  \n",
       "total_bedrooms                           -0.028536       0.057973  \n",
       "population                                0.072330      -0.014167  \n",
       "households                               -0.027656       0.075293  \n",
       "median_income                             0.022061       0.542839  \n",
       "median_house_value                       -0.022030       0.804533  \n",
       "rooms_per_household                      -0.004922       0.116057  \n",
       "bedrooms_per_room                         0.003938      -0.225355  \n",
       "population_per_household                  1.000000      -0.021230  \n",
       "above_average                            -0.021230       1.000000  "
      ]
     },
     "execution_count": 19,
     "metadata": {},
     "output_type": "execute_result"
    }
   ],
   "source": [
    "df_full_train.corr()\n",
    "\n",
    "# households and total_bedrooms have the biggest correlation"
   ]
  },
  {
   "cell_type": "code",
   "execution_count": 20,
   "id": "a5e44375",
   "metadata": {},
   "outputs": [],
   "source": [
    "from sklearn.metrics import mutual_info_score"
   ]
  },
  {
   "cell_type": "code",
   "execution_count": 21,
   "id": "d2b5cbfb",
   "metadata": {
    "scrolled": true
   },
   "outputs": [
    {
     "data": {
      "text/plain": [
       "0.1014306752368672"
      ]
     },
     "execution_count": 21,
     "metadata": {},
     "output_type": "execute_result"
    }
   ],
   "source": [
    "mutual_info_score(df_full_train.ocean_proximity, df_full_train.above_average)"
   ]
  },
  {
   "cell_type": "code",
   "execution_count": 85,
   "id": "a79ee2ef",
   "metadata": {},
   "outputs": [
    {
     "data": {
      "text/plain": [
       "206855.81690891474"
      ]
     },
     "execution_count": 85,
     "metadata": {},
     "output_type": "execute_result"
    }
   ],
   "source": [
    "house_mean_value = df.median_house_value.mean()\n",
    "house_mean_value"
   ]
  },
  {
   "cell_type": "code",
   "execution_count": 171,
   "id": "a8ce20b4",
   "metadata": {},
   "outputs": [],
   "source": [
    "df['above_average'] = df.median_house_value >= house_mean_value"
   ]
  },
  {
   "cell_type": "code",
   "execution_count": 176,
   "id": "e06b1bc8",
   "metadata": {},
   "outputs": [],
   "source": [
    "df.above_average = (df.above_average == True).astype(int)"
   ]
  },
  {
   "cell_type": "code",
   "execution_count": 91,
   "id": "c294c1e2",
   "metadata": {},
   "outputs": [],
   "source": [
    "df_full_train, df_test = train_test_split(df, test_size=0.2, random_state=42)\n",
    "df_train, df_val = train_test_split(df_full_train, test_size=0.25, random_state=42)"
   ]
  },
  {
   "cell_type": "code",
   "execution_count": 92,
   "id": "ad4c6486",
   "metadata": {},
   "outputs": [],
   "source": [
    "y_train = df_train.above_average.values\n",
    "y_val = df_val.above_average.values\n",
    "y_test = df_test.above_average.values\n",
    "del df_train['above_average']\n",
    "del df_val['above_average']\n",
    "del df_test['above_average']"
   ]
  },
  {
   "cell_type": "code",
   "execution_count": 94,
   "id": "78da25f8",
   "metadata": {},
   "outputs": [],
   "source": [
    "del df_train['median_house_value']\n",
    "del df_val['median_house_value']\n",
    "del df_test['median_house_value']"
   ]
  },
  {
   "cell_type": "code",
   "execution_count": 95,
   "id": "d22f3b3e",
   "metadata": {},
   "outputs": [
    {
     "data": {
      "text/plain": [
       "{'longitude': -119.67,\n",
       " 'latitude': 34.43,\n",
       " 'housing_median_age': 39.0,\n",
       " 'total_rooms': 1467.0,\n",
       " 'total_bedrooms': 381.0,\n",
       " 'population': 1404.0,\n",
       " 'households': 374.0,\n",
       " 'median_income': 2.3681,\n",
       " 'ocean_proximity': '<1H OCEAN',\n",
       " 'rooms_per_household': 3.9224598930481283,\n",
       " 'bedrooms_per_room': 0.25971370143149286,\n",
       " 'population_per_household': 3.7540106951871657}"
      ]
     },
     "execution_count": 95,
     "metadata": {},
     "output_type": "execute_result"
    }
   ],
   "source": [
    "train_dict = df_train.to_dict(orient='records')\n",
    "train_dict[0]"
   ]
  },
  {
   "cell_type": "code",
   "execution_count": 96,
   "id": "376bf3b6",
   "metadata": {},
   "outputs": [],
   "source": [
    "from sklearn.feature_extraction import DictVectorizer\n",
    "\n",
    "dv = DictVectorizer(sparse=False)"
   ]
  },
  {
   "cell_type": "code",
   "execution_count": 98,
   "id": "e1699e85",
   "metadata": {},
   "outputs": [],
   "source": [
    "\n",
    "X_train = dv.fit_transform(train_dict)\n",
    "\n",
    "val_dict = df_val.to_dict(orient='records')\n",
    "X_val = dv.transform(val_dict)\n"
   ]
  },
  {
   "cell_type": "code",
   "execution_count": 51,
   "id": "1589861c",
   "metadata": {},
   "outputs": [],
   "source": [
    "from sklearn.linear_model import LogisticRegression"
   ]
  },
  {
   "cell_type": "code",
   "execution_count": 99,
   "id": "9a36d965",
   "metadata": {
    "scrolled": true
   },
   "outputs": [
    {
     "data": {
      "text/html": [
       "<style>#sk-container-id-5 {color: black;background-color: white;}#sk-container-id-5 pre{padding: 0;}#sk-container-id-5 div.sk-toggleable {background-color: white;}#sk-container-id-5 label.sk-toggleable__label {cursor: pointer;display: block;width: 100%;margin-bottom: 0;padding: 0.3em;box-sizing: border-box;text-align: center;}#sk-container-id-5 label.sk-toggleable__label-arrow:before {content: \"▸\";float: left;margin-right: 0.25em;color: #696969;}#sk-container-id-5 label.sk-toggleable__label-arrow:hover:before {color: black;}#sk-container-id-5 div.sk-estimator:hover label.sk-toggleable__label-arrow:before {color: black;}#sk-container-id-5 div.sk-toggleable__content {max-height: 0;max-width: 0;overflow: hidden;text-align: left;background-color: #f0f8ff;}#sk-container-id-5 div.sk-toggleable__content pre {margin: 0.2em;color: black;border-radius: 0.25em;background-color: #f0f8ff;}#sk-container-id-5 input.sk-toggleable__control:checked~div.sk-toggleable__content {max-height: 200px;max-width: 100%;overflow: auto;}#sk-container-id-5 input.sk-toggleable__control:checked~label.sk-toggleable__label-arrow:before {content: \"▾\";}#sk-container-id-5 div.sk-estimator input.sk-toggleable__control:checked~label.sk-toggleable__label {background-color: #d4ebff;}#sk-container-id-5 div.sk-label input.sk-toggleable__control:checked~label.sk-toggleable__label {background-color: #d4ebff;}#sk-container-id-5 input.sk-hidden--visually {border: 0;clip: rect(1px 1px 1px 1px);clip: rect(1px, 1px, 1px, 1px);height: 1px;margin: -1px;overflow: hidden;padding: 0;position: absolute;width: 1px;}#sk-container-id-5 div.sk-estimator {font-family: monospace;background-color: #f0f8ff;border: 1px dotted black;border-radius: 0.25em;box-sizing: border-box;margin-bottom: 0.5em;}#sk-container-id-5 div.sk-estimator:hover {background-color: #d4ebff;}#sk-container-id-5 div.sk-parallel-item::after {content: \"\";width: 100%;border-bottom: 1px solid gray;flex-grow: 1;}#sk-container-id-5 div.sk-label:hover label.sk-toggleable__label {background-color: #d4ebff;}#sk-container-id-5 div.sk-serial::before {content: \"\";position: absolute;border-left: 1px solid gray;box-sizing: border-box;top: 0;bottom: 0;left: 50%;z-index: 0;}#sk-container-id-5 div.sk-serial {display: flex;flex-direction: column;align-items: center;background-color: white;padding-right: 0.2em;padding-left: 0.2em;position: relative;}#sk-container-id-5 div.sk-item {position: relative;z-index: 1;}#sk-container-id-5 div.sk-parallel {display: flex;align-items: stretch;justify-content: center;background-color: white;position: relative;}#sk-container-id-5 div.sk-item::before, #sk-container-id-5 div.sk-parallel-item::before {content: \"\";position: absolute;border-left: 1px solid gray;box-sizing: border-box;top: 0;bottom: 0;left: 50%;z-index: -1;}#sk-container-id-5 div.sk-parallel-item {display: flex;flex-direction: column;z-index: 1;position: relative;background-color: white;}#sk-container-id-5 div.sk-parallel-item:first-child::after {align-self: flex-end;width: 50%;}#sk-container-id-5 div.sk-parallel-item:last-child::after {align-self: flex-start;width: 50%;}#sk-container-id-5 div.sk-parallel-item:only-child::after {width: 0;}#sk-container-id-5 div.sk-dashed-wrapped {border: 1px dashed gray;margin: 0 0.4em 0.5em 0.4em;box-sizing: border-box;padding-bottom: 0.4em;background-color: white;}#sk-container-id-5 div.sk-label label {font-family: monospace;font-weight: bold;display: inline-block;line-height: 1.2em;}#sk-container-id-5 div.sk-label-container {text-align: center;}#sk-container-id-5 div.sk-container {/* jupyter's `normalize.less` sets `[hidden] { display: none; }` but bootstrap.min.css set `[hidden] { display: none !important; }` so we also need the `!important` here to be able to override the default hidden behavior on the sphinx rendered scikit-learn.org. See: https://github.com/scikit-learn/scikit-learn/issues/21755 */display: inline-block !important;position: relative;}#sk-container-id-5 div.sk-text-repr-fallback {display: none;}</style><div id=\"sk-container-id-5\" class=\"sk-top-container\"><div class=\"sk-text-repr-fallback\"><pre>LogisticRegression(max_iter=1000, random_state=42, solver=&#x27;liblinear&#x27;)</pre><b>In a Jupyter environment, please rerun this cell to show the HTML representation or trust the notebook. <br />On GitHub, the HTML representation is unable to render, please try loading this page with nbviewer.org.</b></div><div class=\"sk-container\" hidden><div class=\"sk-item\"><div class=\"sk-estimator sk-toggleable\"><input class=\"sk-toggleable__control sk-hidden--visually\" id=\"sk-estimator-id-5\" type=\"checkbox\" checked><label for=\"sk-estimator-id-5\" class=\"sk-toggleable__label sk-toggleable__label-arrow\">LogisticRegression</label><div class=\"sk-toggleable__content\"><pre>LogisticRegression(max_iter=1000, random_state=42, solver=&#x27;liblinear&#x27;)</pre></div></div></div></div></div>"
      ],
      "text/plain": [
       "LogisticRegression(max_iter=1000, random_state=42, solver='liblinear')"
      ]
     },
     "execution_count": 99,
     "metadata": {},
     "output_type": "execute_result"
    }
   ],
   "source": [
    "model = LogisticRegression(solver=\"liblinear\", C=1.0, max_iter=1000, random_state=42)\n",
    "model.fit(X_train, y_train)"
   ]
  },
  {
   "cell_type": "code",
   "execution_count": 103,
   "id": "2b827776",
   "metadata": {
    "scrolled": false
   },
   "outputs": [
    {
     "data": {
      "text/plain": [
       "array([ 0.223,  0.004,  0.036,  0.126,  0.09 ,  1.21 ,  0.476, -1.738,\n",
       "        0.023,  0.275,  0.868, -0.002,  0.01 , -0.021,  0.002, -0.   ])"
      ]
     },
     "execution_count": 103,
     "metadata": {},
     "output_type": "execute_result"
    }
   ],
   "source": [
    "# coefficients are the weights (w)\n",
    "model.coef_[0].round(3)"
   ]
  },
  {
   "cell_type": "code",
   "execution_count": 124,
   "id": "a8554756",
   "metadata": {},
   "outputs": [
    {
     "data": {
      "text/plain": [
       "-0.09680252423459645"
      ]
     },
     "execution_count": 124,
     "metadata": {},
     "output_type": "execute_result"
    }
   ],
   "source": [
    "# intercept is the bias term (w0)\n",
    "model.intercept_[0]"
   ]
  },
  {
   "cell_type": "code",
   "execution_count": 104,
   "id": "f3b97e7f",
   "metadata": {},
   "outputs": [],
   "source": [
    "y_pred = model.predict_proba(X_val)[:, 1]"
   ]
  },
  {
   "cell_type": "code",
   "execution_count": 107,
   "id": "a0eacc11",
   "metadata": {},
   "outputs": [
    {
     "data": {
      "text/plain": [
       "array([0, 0, 1, ..., 1, 1, 0])"
      ]
     },
     "execution_count": 107,
     "metadata": {},
     "output_type": "execute_result"
    }
   ],
   "source": [
    "y_val"
   ]
  },
  {
   "cell_type": "code",
   "execution_count": 108,
   "id": "d02c72ef",
   "metadata": {},
   "outputs": [
    {
     "data": {
      "text/plain": [
       "array([0.07786319, 0.18583189, 0.95140425, ..., 0.96166254, 0.85034795,\n",
       "       0.47081981])"
      ]
     },
     "execution_count": 108,
     "metadata": {},
     "output_type": "execute_result"
    }
   ],
   "source": [
    "y_pred"
   ]
  },
  {
   "cell_type": "code",
   "execution_count": 109,
   "id": "fee5f716",
   "metadata": {},
   "outputs": [],
   "source": [
    "above_average = (y_pred >= 0.5)"
   ]
  },
  {
   "cell_type": "code",
   "execution_count": 110,
   "id": "3b1a02e3",
   "metadata": {},
   "outputs": [
    {
     "data": {
      "text/html": [
       "<div>\n",
       "<style scoped>\n",
       "    .dataframe tbody tr th:only-of-type {\n",
       "        vertical-align: middle;\n",
       "    }\n",
       "\n",
       "    .dataframe tbody tr th {\n",
       "        vertical-align: top;\n",
       "    }\n",
       "\n",
       "    .dataframe thead th {\n",
       "        text-align: right;\n",
       "    }\n",
       "</style>\n",
       "<table border=\"1\" class=\"dataframe\">\n",
       "  <thead>\n",
       "    <tr style=\"text-align: right;\">\n",
       "      <th></th>\n",
       "      <th>longitude</th>\n",
       "      <th>latitude</th>\n",
       "      <th>housing_median_age</th>\n",
       "      <th>total_rooms</th>\n",
       "      <th>total_bedrooms</th>\n",
       "      <th>population</th>\n",
       "      <th>households</th>\n",
       "      <th>median_income</th>\n",
       "      <th>ocean_proximity</th>\n",
       "      <th>rooms_per_household</th>\n",
       "      <th>bedrooms_per_room</th>\n",
       "      <th>population_per_household</th>\n",
       "    </tr>\n",
       "  </thead>\n",
       "  <tbody>\n",
       "    <tr>\n",
       "      <th>10838</th>\n",
       "      <td>-117.92</td>\n",
       "      <td>33.67</td>\n",
       "      <td>14.0</td>\n",
       "      <td>6224.0</td>\n",
       "      <td>1679.0</td>\n",
       "      <td>3148.0</td>\n",
       "      <td>1589.0</td>\n",
       "      <td>4.2071</td>\n",
       "      <td>&lt;1H OCEAN</td>\n",
       "      <td>3.916929</td>\n",
       "      <td>0.269762</td>\n",
       "      <td>1.981120</td>\n",
       "    </tr>\n",
       "    <tr>\n",
       "      <th>10767</th>\n",
       "      <td>-117.90</td>\n",
       "      <td>33.63</td>\n",
       "      <td>28.0</td>\n",
       "      <td>2370.0</td>\n",
       "      <td>352.0</td>\n",
       "      <td>832.0</td>\n",
       "      <td>347.0</td>\n",
       "      <td>7.1148</td>\n",
       "      <td>&lt;1H OCEAN</td>\n",
       "      <td>6.829971</td>\n",
       "      <td>0.148523</td>\n",
       "      <td>2.397695</td>\n",
       "    </tr>\n",
       "    <tr>\n",
       "      <th>10394</th>\n",
       "      <td>-117.67</td>\n",
       "      <td>33.54</td>\n",
       "      <td>16.0</td>\n",
       "      <td>2102.0</td>\n",
       "      <td>350.0</td>\n",
       "      <td>1003.0</td>\n",
       "      <td>328.0</td>\n",
       "      <td>4.7981</td>\n",
       "      <td>&lt;1H OCEAN</td>\n",
       "      <td>6.408537</td>\n",
       "      <td>0.166508</td>\n",
       "      <td>3.057927</td>\n",
       "    </tr>\n",
       "    <tr>\n",
       "      <th>17311</th>\n",
       "      <td>-119.49</td>\n",
       "      <td>34.39</td>\n",
       "      <td>17.0</td>\n",
       "      <td>4617.0</td>\n",
       "      <td>982.0</td>\n",
       "      <td>2303.0</td>\n",
       "      <td>923.0</td>\n",
       "      <td>3.9224</td>\n",
       "      <td>NEAR OCEAN</td>\n",
       "      <td>5.002167</td>\n",
       "      <td>0.212692</td>\n",
       "      <td>2.495125</td>\n",
       "    </tr>\n",
       "    <tr>\n",
       "      <th>5758</th>\n",
       "      <td>-118.28</td>\n",
       "      <td>34.17</td>\n",
       "      <td>22.0</td>\n",
       "      <td>2664.0</td>\n",
       "      <td>651.0</td>\n",
       "      <td>1553.0</td>\n",
       "      <td>629.0</td>\n",
       "      <td>3.6354</td>\n",
       "      <td>&lt;1H OCEAN</td>\n",
       "      <td>4.235294</td>\n",
       "      <td>0.244369</td>\n",
       "      <td>2.468998</td>\n",
       "    </tr>\n",
       "    <tr>\n",
       "      <th>...</th>\n",
       "      <td>...</td>\n",
       "      <td>...</td>\n",
       "      <td>...</td>\n",
       "      <td>...</td>\n",
       "      <td>...</td>\n",
       "      <td>...</td>\n",
       "      <td>...</td>\n",
       "      <td>...</td>\n",
       "      <td>...</td>\n",
       "      <td>...</td>\n",
       "      <td>...</td>\n",
       "      <td>...</td>\n",
       "    </tr>\n",
       "    <tr>\n",
       "      <th>10165</th>\n",
       "      <td>-117.94</td>\n",
       "      <td>33.91</td>\n",
       "      <td>18.0</td>\n",
       "      <td>8836.0</td>\n",
       "      <td>1527.0</td>\n",
       "      <td>3946.0</td>\n",
       "      <td>1451.0</td>\n",
       "      <td>5.6441</td>\n",
       "      <td>&lt;1H OCEAN</td>\n",
       "      <td>6.089593</td>\n",
       "      <td>0.172816</td>\n",
       "      <td>2.719504</td>\n",
       "    </tr>\n",
       "    <tr>\n",
       "      <th>1381</th>\n",
       "      <td>-122.11</td>\n",
       "      <td>38.00</td>\n",
       "      <td>9.0</td>\n",
       "      <td>3424.0</td>\n",
       "      <td>583.0</td>\n",
       "      <td>1460.0</td>\n",
       "      <td>543.0</td>\n",
       "      <td>5.7600</td>\n",
       "      <td>NEAR BAY</td>\n",
       "      <td>6.305709</td>\n",
       "      <td>0.170269</td>\n",
       "      <td>2.688766</td>\n",
       "    </tr>\n",
       "    <tr>\n",
       "      <th>16904</th>\n",
       "      <td>-122.35</td>\n",
       "      <td>37.58</td>\n",
       "      <td>30.0</td>\n",
       "      <td>5039.0</td>\n",
       "      <td>1564.0</td>\n",
       "      <td>2129.0</td>\n",
       "      <td>1536.0</td>\n",
       "      <td>3.3469</td>\n",
       "      <td>NEAR OCEAN</td>\n",
       "      <td>3.280599</td>\n",
       "      <td>0.310379</td>\n",
       "      <td>1.386068</td>\n",
       "    </tr>\n",
       "    <tr>\n",
       "      <th>18139</th>\n",
       "      <td>-122.01</td>\n",
       "      <td>37.34</td>\n",
       "      <td>31.0</td>\n",
       "      <td>3080.0</td>\n",
       "      <td>526.0</td>\n",
       "      <td>1493.0</td>\n",
       "      <td>582.0</td>\n",
       "      <td>6.3052</td>\n",
       "      <td>&lt;1H OCEAN</td>\n",
       "      <td>5.292096</td>\n",
       "      <td>0.170779</td>\n",
       "      <td>2.565292</td>\n",
       "    </tr>\n",
       "    <tr>\n",
       "      <th>11471</th>\n",
       "      <td>-118.00</td>\n",
       "      <td>33.67</td>\n",
       "      <td>34.0</td>\n",
       "      <td>3712.0</td>\n",
       "      <td>667.0</td>\n",
       "      <td>1521.0</td>\n",
       "      <td>632.0</td>\n",
       "      <td>4.8125</td>\n",
       "      <td>&lt;1H OCEAN</td>\n",
       "      <td>5.873418</td>\n",
       "      <td>0.179688</td>\n",
       "      <td>2.406646</td>\n",
       "    </tr>\n",
       "  </tbody>\n",
       "</table>\n",
       "<p>1676 rows × 12 columns</p>\n",
       "</div>"
      ],
      "text/plain": [
       "       longitude  latitude  housing_median_age  total_rooms  total_bedrooms  \\\n",
       "10838    -117.92     33.67                14.0       6224.0          1679.0   \n",
       "10767    -117.90     33.63                28.0       2370.0           352.0   \n",
       "10394    -117.67     33.54                16.0       2102.0           350.0   \n",
       "17311    -119.49     34.39                17.0       4617.0           982.0   \n",
       "5758     -118.28     34.17                22.0       2664.0           651.0   \n",
       "...          ...       ...                 ...          ...             ...   \n",
       "10165    -117.94     33.91                18.0       8836.0          1527.0   \n",
       "1381     -122.11     38.00                 9.0       3424.0           583.0   \n",
       "16904    -122.35     37.58                30.0       5039.0          1564.0   \n",
       "18139    -122.01     37.34                31.0       3080.0           526.0   \n",
       "11471    -118.00     33.67                34.0       3712.0           667.0   \n",
       "\n",
       "       population  households  median_income ocean_proximity  \\\n",
       "10838      3148.0      1589.0         4.2071       <1H OCEAN   \n",
       "10767       832.0       347.0         7.1148       <1H OCEAN   \n",
       "10394      1003.0       328.0         4.7981       <1H OCEAN   \n",
       "17311      2303.0       923.0         3.9224      NEAR OCEAN   \n",
       "5758       1553.0       629.0         3.6354       <1H OCEAN   \n",
       "...           ...         ...            ...             ...   \n",
       "10165      3946.0      1451.0         5.6441       <1H OCEAN   \n",
       "1381       1460.0       543.0         5.7600        NEAR BAY   \n",
       "16904      2129.0      1536.0         3.3469      NEAR OCEAN   \n",
       "18139      1493.0       582.0         6.3052       <1H OCEAN   \n",
       "11471      1521.0       632.0         4.8125       <1H OCEAN   \n",
       "\n",
       "       rooms_per_household  bedrooms_per_room  population_per_household  \n",
       "10838             3.916929           0.269762                  1.981120  \n",
       "10767             6.829971           0.148523                  2.397695  \n",
       "10394             6.408537           0.166508                  3.057927  \n",
       "17311             5.002167           0.212692                  2.495125  \n",
       "5758              4.235294           0.244369                  2.468998  \n",
       "...                    ...                ...                       ...  \n",
       "10165             6.089593           0.172816                  2.719504  \n",
       "1381              6.305709           0.170269                  2.688766  \n",
       "16904             3.280599           0.310379                  1.386068  \n",
       "18139             5.292096           0.170779                  2.565292  \n",
       "11471             5.873418           0.179688                  2.406646  \n",
       "\n",
       "[1676 rows x 12 columns]"
      ]
     },
     "execution_count": 110,
     "metadata": {},
     "output_type": "execute_result"
    }
   ],
   "source": [
    "df_val[above_average]"
   ]
  },
  {
   "cell_type": "code",
   "execution_count": 111,
   "id": "f0f513ee",
   "metadata": {},
   "outputs": [
    {
     "data": {
      "text/plain": [
       "0.8369670542635659"
      ]
     },
     "execution_count": 111,
     "metadata": {},
     "output_type": "execute_result"
    }
   ],
   "source": [
    "(y_val == above_average).mean()\n",
    "## accuracy of predictions"
   ]
  },
  {
   "cell_type": "code",
   "execution_count": 112,
   "id": "b535cbe0",
   "metadata": {},
   "outputs": [
    {
     "data": {
      "text/plain": [
       "array([False, False,  True, ...,  True,  True, False])"
      ]
     },
     "execution_count": 112,
     "metadata": {},
     "output_type": "execute_result"
    }
   ],
   "source": [
    "above_average"
   ]
  },
  {
   "cell_type": "code",
   "execution_count": 113,
   "id": "3868e5d8",
   "metadata": {},
   "outputs": [
    {
     "data": {
      "text/plain": [
       "array([0, 0, 1, ..., 1, 1, 0])"
      ]
     },
     "execution_count": 113,
     "metadata": {},
     "output_type": "execute_result"
    }
   ],
   "source": [
    "y_val"
   ]
  },
  {
   "cell_type": "code",
   "execution_count": 114,
   "id": "ed56d297",
   "metadata": {},
   "outputs": [
    {
     "data": {
      "text/plain": [
       "array([0, 0, 1, ..., 1, 1, 0])"
      ]
     },
     "execution_count": 114,
     "metadata": {},
     "output_type": "execute_result"
    }
   ],
   "source": [
    "above_average.astype(int)"
   ]
  },
  {
   "cell_type": "code",
   "execution_count": 117,
   "id": "74cacadb",
   "metadata": {},
   "outputs": [],
   "source": [
    "df_pred = pd.DataFrame()\n",
    "df_pred['probability'] = y_pred\n",
    "df_pred['prediction'] = above_average.astype(int)\n",
    "df_pred['actual'] = y_val\n",
    "df_pred['correct'] = df_pred.prediction == df_pred.actual"
   ]
  },
  {
   "cell_type": "code",
   "execution_count": 118,
   "id": "4745198c",
   "metadata": {},
   "outputs": [
    {
     "data": {
      "text/html": [
       "<div>\n",
       "<style scoped>\n",
       "    .dataframe tbody tr th:only-of-type {\n",
       "        vertical-align: middle;\n",
       "    }\n",
       "\n",
       "    .dataframe tbody tr th {\n",
       "        vertical-align: top;\n",
       "    }\n",
       "\n",
       "    .dataframe thead th {\n",
       "        text-align: right;\n",
       "    }\n",
       "</style>\n",
       "<table border=\"1\" class=\"dataframe\">\n",
       "  <thead>\n",
       "    <tr style=\"text-align: right;\">\n",
       "      <th></th>\n",
       "      <th>probability</th>\n",
       "      <th>prediction</th>\n",
       "      <th>actual</th>\n",
       "      <th>correct</th>\n",
       "    </tr>\n",
       "  </thead>\n",
       "  <tbody>\n",
       "    <tr>\n",
       "      <th>0</th>\n",
       "      <td>0.077863</td>\n",
       "      <td>0</td>\n",
       "      <td>0</td>\n",
       "      <td>True</td>\n",
       "    </tr>\n",
       "    <tr>\n",
       "      <th>1</th>\n",
       "      <td>0.185832</td>\n",
       "      <td>0</td>\n",
       "      <td>0</td>\n",
       "      <td>True</td>\n",
       "    </tr>\n",
       "    <tr>\n",
       "      <th>2</th>\n",
       "      <td>0.951404</td>\n",
       "      <td>1</td>\n",
       "      <td>1</td>\n",
       "      <td>True</td>\n",
       "    </tr>\n",
       "    <tr>\n",
       "      <th>3</th>\n",
       "      <td>0.495577</td>\n",
       "      <td>0</td>\n",
       "      <td>1</td>\n",
       "      <td>False</td>\n",
       "    </tr>\n",
       "    <tr>\n",
       "      <th>4</th>\n",
       "      <td>0.980074</td>\n",
       "      <td>1</td>\n",
       "      <td>1</td>\n",
       "      <td>True</td>\n",
       "    </tr>\n",
       "    <tr>\n",
       "      <th>...</th>\n",
       "      <td>...</td>\n",
       "      <td>...</td>\n",
       "      <td>...</td>\n",
       "      <td>...</td>\n",
       "    </tr>\n",
       "    <tr>\n",
       "      <th>4123</th>\n",
       "      <td>0.046664</td>\n",
       "      <td>0</td>\n",
       "      <td>0</td>\n",
       "      <td>True</td>\n",
       "    </tr>\n",
       "    <tr>\n",
       "      <th>4124</th>\n",
       "      <td>0.987964</td>\n",
       "      <td>1</td>\n",
       "      <td>1</td>\n",
       "      <td>True</td>\n",
       "    </tr>\n",
       "    <tr>\n",
       "      <th>4125</th>\n",
       "      <td>0.961663</td>\n",
       "      <td>1</td>\n",
       "      <td>1</td>\n",
       "      <td>True</td>\n",
       "    </tr>\n",
       "    <tr>\n",
       "      <th>4126</th>\n",
       "      <td>0.850348</td>\n",
       "      <td>1</td>\n",
       "      <td>1</td>\n",
       "      <td>True</td>\n",
       "    </tr>\n",
       "    <tr>\n",
       "      <th>4127</th>\n",
       "      <td>0.470820</td>\n",
       "      <td>0</td>\n",
       "      <td>0</td>\n",
       "      <td>True</td>\n",
       "    </tr>\n",
       "  </tbody>\n",
       "</table>\n",
       "<p>4128 rows × 4 columns</p>\n",
       "</div>"
      ],
      "text/plain": [
       "      probability  prediction  actual  correct\n",
       "0        0.077863           0       0     True\n",
       "1        0.185832           0       0     True\n",
       "2        0.951404           1       1     True\n",
       "3        0.495577           0       1    False\n",
       "4        0.980074           1       1     True\n",
       "...           ...         ...     ...      ...\n",
       "4123     0.046664           0       0     True\n",
       "4124     0.987964           1       1     True\n",
       "4125     0.961663           1       1     True\n",
       "4126     0.850348           1       1     True\n",
       "4127     0.470820           0       0     True\n",
       "\n",
       "[4128 rows x 4 columns]"
      ]
     },
     "execution_count": 118,
     "metadata": {},
     "output_type": "execute_result"
    }
   ],
   "source": [
    "df_pred"
   ]
  },
  {
   "cell_type": "code",
   "execution_count": 121,
   "id": "7b796472",
   "metadata": {},
   "outputs": [
    {
     "data": {
      "text/plain": [
       "{'bedrooms_per_room': 0.223,\n",
       " 'households': 0.004,\n",
       " 'housing_median_age': 0.036,\n",
       " 'latitude': 0.126,\n",
       " 'longitude': 0.09,\n",
       " 'median_income': 1.21,\n",
       " 'ocean_proximity=<1H OCEAN': 0.476,\n",
       " 'ocean_proximity=INLAND': -1.738,\n",
       " 'ocean_proximity=ISLAND': 0.023,\n",
       " 'ocean_proximity=NEAR BAY': 0.275,\n",
       " 'ocean_proximity=NEAR OCEAN': 0.868,\n",
       " 'population': -0.002,\n",
       " 'population_per_household': 0.01,\n",
       " 'rooms_per_household': -0.021,\n",
       " 'total_bedrooms': 0.002,\n",
       " 'total_rooms': -0.0}"
      ]
     },
     "execution_count": 121,
     "metadata": {},
     "output_type": "execute_result"
    }
   ],
   "source": [
    "dict(zip(dv.get_feature_names(), model.coef_[0].round(3)))"
   ]
  },
  {
   "cell_type": "code",
   "execution_count": 122,
   "id": "c4d1cf91",
   "metadata": {},
   "outputs": [
    {
     "data": {
      "text/html": [
       "<style>#sk-container-id-6 {color: black;background-color: white;}#sk-container-id-6 pre{padding: 0;}#sk-container-id-6 div.sk-toggleable {background-color: white;}#sk-container-id-6 label.sk-toggleable__label {cursor: pointer;display: block;width: 100%;margin-bottom: 0;padding: 0.3em;box-sizing: border-box;text-align: center;}#sk-container-id-6 label.sk-toggleable__label-arrow:before {content: \"▸\";float: left;margin-right: 0.25em;color: #696969;}#sk-container-id-6 label.sk-toggleable__label-arrow:hover:before {color: black;}#sk-container-id-6 div.sk-estimator:hover label.sk-toggleable__label-arrow:before {color: black;}#sk-container-id-6 div.sk-toggleable__content {max-height: 0;max-width: 0;overflow: hidden;text-align: left;background-color: #f0f8ff;}#sk-container-id-6 div.sk-toggleable__content pre {margin: 0.2em;color: black;border-radius: 0.25em;background-color: #f0f8ff;}#sk-container-id-6 input.sk-toggleable__control:checked~div.sk-toggleable__content {max-height: 200px;max-width: 100%;overflow: auto;}#sk-container-id-6 input.sk-toggleable__control:checked~label.sk-toggleable__label-arrow:before {content: \"▾\";}#sk-container-id-6 div.sk-estimator input.sk-toggleable__control:checked~label.sk-toggleable__label {background-color: #d4ebff;}#sk-container-id-6 div.sk-label input.sk-toggleable__control:checked~label.sk-toggleable__label {background-color: #d4ebff;}#sk-container-id-6 input.sk-hidden--visually {border: 0;clip: rect(1px 1px 1px 1px);clip: rect(1px, 1px, 1px, 1px);height: 1px;margin: -1px;overflow: hidden;padding: 0;position: absolute;width: 1px;}#sk-container-id-6 div.sk-estimator {font-family: monospace;background-color: #f0f8ff;border: 1px dotted black;border-radius: 0.25em;box-sizing: border-box;margin-bottom: 0.5em;}#sk-container-id-6 div.sk-estimator:hover {background-color: #d4ebff;}#sk-container-id-6 div.sk-parallel-item::after {content: \"\";width: 100%;border-bottom: 1px solid gray;flex-grow: 1;}#sk-container-id-6 div.sk-label:hover label.sk-toggleable__label {background-color: #d4ebff;}#sk-container-id-6 div.sk-serial::before {content: \"\";position: absolute;border-left: 1px solid gray;box-sizing: border-box;top: 0;bottom: 0;left: 50%;z-index: 0;}#sk-container-id-6 div.sk-serial {display: flex;flex-direction: column;align-items: center;background-color: white;padding-right: 0.2em;padding-left: 0.2em;position: relative;}#sk-container-id-6 div.sk-item {position: relative;z-index: 1;}#sk-container-id-6 div.sk-parallel {display: flex;align-items: stretch;justify-content: center;background-color: white;position: relative;}#sk-container-id-6 div.sk-item::before, #sk-container-id-6 div.sk-parallel-item::before {content: \"\";position: absolute;border-left: 1px solid gray;box-sizing: border-box;top: 0;bottom: 0;left: 50%;z-index: -1;}#sk-container-id-6 div.sk-parallel-item {display: flex;flex-direction: column;z-index: 1;position: relative;background-color: white;}#sk-container-id-6 div.sk-parallel-item:first-child::after {align-self: flex-end;width: 50%;}#sk-container-id-6 div.sk-parallel-item:last-child::after {align-self: flex-start;width: 50%;}#sk-container-id-6 div.sk-parallel-item:only-child::after {width: 0;}#sk-container-id-6 div.sk-dashed-wrapped {border: 1px dashed gray;margin: 0 0.4em 0.5em 0.4em;box-sizing: border-box;padding-bottom: 0.4em;background-color: white;}#sk-container-id-6 div.sk-label label {font-family: monospace;font-weight: bold;display: inline-block;line-height: 1.2em;}#sk-container-id-6 div.sk-label-container {text-align: center;}#sk-container-id-6 div.sk-container {/* jupyter's `normalize.less` sets `[hidden] { display: none; }` but bootstrap.min.css set `[hidden] { display: none !important; }` so we also need the `!important` here to be able to override the default hidden behavior on the sphinx rendered scikit-learn.org. See: https://github.com/scikit-learn/scikit-learn/issues/21755 */display: inline-block !important;position: relative;}#sk-container-id-6 div.sk-text-repr-fallback {display: none;}</style><div id=\"sk-container-id-6\" class=\"sk-top-container\"><div class=\"sk-text-repr-fallback\"><pre>DictVectorizer(sparse=False)</pre><b>In a Jupyter environment, please rerun this cell to show the HTML representation or trust the notebook. <br />On GitHub, the HTML representation is unable to render, please try loading this page with nbviewer.org.</b></div><div class=\"sk-container\" hidden><div class=\"sk-item\"><div class=\"sk-estimator sk-toggleable\"><input class=\"sk-toggleable__control sk-hidden--visually\" id=\"sk-estimator-id-6\" type=\"checkbox\" checked><label for=\"sk-estimator-id-6\" class=\"sk-toggleable__label sk-toggleable__label-arrow\">DictVectorizer</label><div class=\"sk-toggleable__content\"><pre>DictVectorizer(sparse=False)</pre></div></div></div></div></div>"
      ],
      "text/plain": [
       "DictVectorizer(sparse=False)"
      ]
     },
     "execution_count": 122,
     "metadata": {},
     "output_type": "execute_result"
    }
   ],
   "source": [
    "small = ['total_rooms', 'total_bedrooms', 'population', 'households']\n",
    "\n",
    "dicts_train_small = df_train[small].to_dict(orient='records')\n",
    "dicts_val_small = df_val[small].to_dict(orient='records')\n",
    "\n",
    "dv_small = DictVectorizer(sparse=False)\n",
    "dv_small.fit(dicts_train_small)"
   ]
  },
  {
   "cell_type": "code",
   "execution_count": 123,
   "id": "773296b8",
   "metadata": {},
   "outputs": [
    {
     "data": {
      "text/html": [
       "<style>#sk-container-id-7 {color: black;background-color: white;}#sk-container-id-7 pre{padding: 0;}#sk-container-id-7 div.sk-toggleable {background-color: white;}#sk-container-id-7 label.sk-toggleable__label {cursor: pointer;display: block;width: 100%;margin-bottom: 0;padding: 0.3em;box-sizing: border-box;text-align: center;}#sk-container-id-7 label.sk-toggleable__label-arrow:before {content: \"▸\";float: left;margin-right: 0.25em;color: #696969;}#sk-container-id-7 label.sk-toggleable__label-arrow:hover:before {color: black;}#sk-container-id-7 div.sk-estimator:hover label.sk-toggleable__label-arrow:before {color: black;}#sk-container-id-7 div.sk-toggleable__content {max-height: 0;max-width: 0;overflow: hidden;text-align: left;background-color: #f0f8ff;}#sk-container-id-7 div.sk-toggleable__content pre {margin: 0.2em;color: black;border-radius: 0.25em;background-color: #f0f8ff;}#sk-container-id-7 input.sk-toggleable__control:checked~div.sk-toggleable__content {max-height: 200px;max-width: 100%;overflow: auto;}#sk-container-id-7 input.sk-toggleable__control:checked~label.sk-toggleable__label-arrow:before {content: \"▾\";}#sk-container-id-7 div.sk-estimator input.sk-toggleable__control:checked~label.sk-toggleable__label {background-color: #d4ebff;}#sk-container-id-7 div.sk-label input.sk-toggleable__control:checked~label.sk-toggleable__label {background-color: #d4ebff;}#sk-container-id-7 input.sk-hidden--visually {border: 0;clip: rect(1px 1px 1px 1px);clip: rect(1px, 1px, 1px, 1px);height: 1px;margin: -1px;overflow: hidden;padding: 0;position: absolute;width: 1px;}#sk-container-id-7 div.sk-estimator {font-family: monospace;background-color: #f0f8ff;border: 1px dotted black;border-radius: 0.25em;box-sizing: border-box;margin-bottom: 0.5em;}#sk-container-id-7 div.sk-estimator:hover {background-color: #d4ebff;}#sk-container-id-7 div.sk-parallel-item::after {content: \"\";width: 100%;border-bottom: 1px solid gray;flex-grow: 1;}#sk-container-id-7 div.sk-label:hover label.sk-toggleable__label {background-color: #d4ebff;}#sk-container-id-7 div.sk-serial::before {content: \"\";position: absolute;border-left: 1px solid gray;box-sizing: border-box;top: 0;bottom: 0;left: 50%;z-index: 0;}#sk-container-id-7 div.sk-serial {display: flex;flex-direction: column;align-items: center;background-color: white;padding-right: 0.2em;padding-left: 0.2em;position: relative;}#sk-container-id-7 div.sk-item {position: relative;z-index: 1;}#sk-container-id-7 div.sk-parallel {display: flex;align-items: stretch;justify-content: center;background-color: white;position: relative;}#sk-container-id-7 div.sk-item::before, #sk-container-id-7 div.sk-parallel-item::before {content: \"\";position: absolute;border-left: 1px solid gray;box-sizing: border-box;top: 0;bottom: 0;left: 50%;z-index: -1;}#sk-container-id-7 div.sk-parallel-item {display: flex;flex-direction: column;z-index: 1;position: relative;background-color: white;}#sk-container-id-7 div.sk-parallel-item:first-child::after {align-self: flex-end;width: 50%;}#sk-container-id-7 div.sk-parallel-item:last-child::after {align-self: flex-start;width: 50%;}#sk-container-id-7 div.sk-parallel-item:only-child::after {width: 0;}#sk-container-id-7 div.sk-dashed-wrapped {border: 1px dashed gray;margin: 0 0.4em 0.5em 0.4em;box-sizing: border-box;padding-bottom: 0.4em;background-color: white;}#sk-container-id-7 div.sk-label label {font-family: monospace;font-weight: bold;display: inline-block;line-height: 1.2em;}#sk-container-id-7 div.sk-label-container {text-align: center;}#sk-container-id-7 div.sk-container {/* jupyter's `normalize.less` sets `[hidden] { display: none; }` but bootstrap.min.css set `[hidden] { display: none !important; }` so we also need the `!important` here to be able to override the default hidden behavior on the sphinx rendered scikit-learn.org. See: https://github.com/scikit-learn/scikit-learn/issues/21755 */display: inline-block !important;position: relative;}#sk-container-id-7 div.sk-text-repr-fallback {display: none;}</style><div id=\"sk-container-id-7\" class=\"sk-top-container\"><div class=\"sk-text-repr-fallback\"><pre>LogisticRegression(max_iter=1000, random_state=42, solver=&#x27;liblinear&#x27;)</pre><b>In a Jupyter environment, please rerun this cell to show the HTML representation or trust the notebook. <br />On GitHub, the HTML representation is unable to render, please try loading this page with nbviewer.org.</b></div><div class=\"sk-container\" hidden><div class=\"sk-item\"><div class=\"sk-estimator sk-toggleable\"><input class=\"sk-toggleable__control sk-hidden--visually\" id=\"sk-estimator-id-7\" type=\"checkbox\" checked><label for=\"sk-estimator-id-7\" class=\"sk-toggleable__label sk-toggleable__label-arrow\">LogisticRegression</label><div class=\"sk-toggleable__content\"><pre>LogisticRegression(max_iter=1000, random_state=42, solver=&#x27;liblinear&#x27;)</pre></div></div></div></div></div>"
      ],
      "text/plain": [
       "LogisticRegression(max_iter=1000, random_state=42, solver='liblinear')"
      ]
     },
     "execution_count": 123,
     "metadata": {},
     "output_type": "execute_result"
    }
   ],
   "source": [
    "X_train_small = dv_small.transform(dicts_train_small)\n",
    "\n",
    "model_small = LogisticRegression(solver=\"liblinear\", C=1.0, max_iter=1000, random_state=42)\n",
    "model_small.fit(X_train_small, y_train)"
   ]
  },
  {
   "cell_type": "code",
   "execution_count": 125,
   "id": "0bfb0799",
   "metadata": {},
   "outputs": [
    {
     "data": {
      "text/plain": [
       "-0.4393981157473192"
      ]
     },
     "execution_count": 125,
     "metadata": {},
     "output_type": "execute_result"
    }
   ],
   "source": [
    "# intercept is bias term\n",
    "w0 = model_small.intercept_[0]\n",
    "w0"
   ]
  },
  {
   "cell_type": "code",
   "execution_count": 126,
   "id": "db7ed96a",
   "metadata": {},
   "outputs": [
    {
     "data": {
      "text/plain": [
       "array([ 0.009, -0.002, -0.008,  0.001])"
      ]
     },
     "execution_count": 126,
     "metadata": {},
     "output_type": "execute_result"
    }
   ],
   "source": [
    "# coefficients are the weights\n",
    "w = model_small.coef_[0]\n",
    "w.round(3)"
   ]
  },
  {
   "cell_type": "code",
   "execution_count": 128,
   "id": "6dd0ed68",
   "metadata": {},
   "outputs": [
    {
     "data": {
      "text/plain": [
       "{'households': 0.009,\n",
       " 'population': -0.002,\n",
       " 'total_bedrooms': -0.008,\n",
       " 'total_rooms': 0.001}"
      ]
     },
     "execution_count": 128,
     "metadata": {},
     "output_type": "execute_result"
    }
   ],
   "source": [
    "dict(zip(dv_small.get_feature_names_out(), w.round(3)))"
   ]
  },
  {
   "cell_type": "code",
   "execution_count": 131,
   "id": "022d799c",
   "metadata": {},
   "outputs": [],
   "source": [
    "X_val_small = dv_small.transform(dicts_val_small)\n",
    "y_pred = model_small.predict_proba(X_val_small)[:, 1]"
   ]
  },
  {
   "cell_type": "code",
   "execution_count": 132,
   "id": "f958051e",
   "metadata": {},
   "outputs": [
    {
     "data": {
      "text/plain": [
       "0.7095445736434108"
      ]
     },
     "execution_count": 132,
     "metadata": {},
     "output_type": "execute_result"
    }
   ],
   "source": [
    "above_average = (y_pred >= 0.5)\n",
    "(y_val == above_average).mean()\n",
    "## accuracy of full small feature set - predictions"
   ]
  },
  {
   "cell_type": "code",
   "execution_count": 201,
   "id": "3a797afe",
   "metadata": {},
   "outputs": [
    {
     "name": "stdout",
     "output_type": "stream",
     "text": [
      "w/o households, accuracy is 0.6719961240310077. difference between original is 0.038\n",
      "w/o population, accuracy is 0.656734496124031. difference between original is 0.053\n",
      "w/o total_bedrooms, accuracy is 0.6608527131782945. difference between original is 0.049\n",
      "w/o total_rooms, accuracy is 0.6276647286821705. difference between original is 0.082\n"
     ]
    }
   ],
   "source": [
    "small = ['total_rooms', 'total_bedrooms', 'population', 'households']\n",
    "orig = 0.7095445736434108\n",
    "for i in range(len(small)):\n",
    "    feature = small.pop()\n",
    "    dicts_train = df_train[small].to_dict(orient='records')\n",
    "    dicts_val = df_val[small].to_dict(orient='records')\n",
    "\n",
    "    dv = DictVectorizer(sparse=False)\n",
    "    dv.fit(dicts_train)\n",
    "    X_train = dv.transform(dicts_train)\n",
    "    X_val = dv.transform(dicts_val)\n",
    "    model = LogisticRegression(solver=\"liblinear\", C=1.0, max_iter=1000, random_state=42)\n",
    "    model.fit(X_train, y_train)\n",
    "    y_pred = model.predict_proba(X_val)[:, 1]\n",
    "    above_average = (y_pred >= 0.5)\n",
    "    accuracy = (y_val == above_average).mean()\n",
    "    print(f'w/o {feature}, accuracy is {accuracy}. difference between original is {round(orig - accuracy, 3)}')\n",
    "    small.insert(0, feature)\n",
    "    "
   ]
  },
  {
   "cell_type": "code",
   "execution_count": 142,
   "id": "bca4b97b",
   "metadata": {},
   "outputs": [],
   "source": [
    "# linear regression\n",
    "df_full_train, df_test = train_test_split(df, test_size=0.2, random_state=42)\n",
    "df_train, df_val = train_test_split(df_full_train, test_size=0.25, random_state=42)\n",
    "\n",
    "y_train = np.log1p(df_train.median_house_value.values)\n",
    "y_val = np.log1p(df_val.median_house_value.values)\n",
    "y_test = np.log1p(df_test.median_house_value.values)\n",
    "\n",
    "del df_train['median_house_value']\n",
    "del df_val['median_house_value']\n",
    "del df_test['median_house_value']\n"
   ]
  },
  {
   "cell_type": "code",
   "execution_count": 146,
   "id": "6a8fe362",
   "metadata": {},
   "outputs": [],
   "source": [
    "from sklearn.linear_model import Ridge"
   ]
  },
  {
   "cell_type": "code",
   "execution_count": 170,
   "id": "25dd723a",
   "metadata": {
    "scrolled": true
   },
   "outputs": [
    {
     "name": "stdout",
     "output_type": "stream",
     "text": [
      "    0 0.469896\n",
      " 0.01 0.469895\n",
      "  0.1 0.469889\n",
      "    1 0.469835\n",
      "   10 0.469877\n"
     ]
    }
   ],
   "source": [
    "dv_ridge = DictVectorizer(sparse=False)\n",
    "\n",
    "train_dict = df_train[['ocean_proximity']].to_dict(orient='records')\n",
    "X_train = dv.fit_transform(train_dict)\n",
    "\n",
    "val_dict = df_val[['ocean_proximity']].to_dict(orient='records')\n",
    "X_val = dv.transform(val_dict)\n",
    "\n",
    "\n",
    "def rmse(y, y_pred):\n",
    "    se = (y - y_pred) ** 2\n",
    "    mse = se.mean()\n",
    "    return np.sqrt(mse)\n",
    "\n",
    "alphas = [0, 0.01, 0.1, 1, 10]\n",
    "for a in alphas:\n",
    "    \n",
    "    model_ridge = Ridge(alpha=a, solver=\"sag\", random_state=42)\n",
    "    model_ridge.fit(X_train, y_train)\n",
    "    \n",
    "    w0 = model_ridge.intercept_\n",
    "    w = model_ridge.coef_\n",
    "    y_pred = w0 + X_val.dot(w)\n",
    "    print(f\"{a:>5} {round(rmse(y_val, y_pred), 6)}\")"
   ]
  }
 ],
 "metadata": {
  "kernelspec": {
   "display_name": "Python 3 (ipykernel)",
   "language": "python",
   "name": "python3"
  },
  "language_info": {
   "codemirror_mode": {
    "name": "ipython",
    "version": 3
   },
   "file_extension": ".py",
   "mimetype": "text/x-python",
   "name": "python",
   "nbconvert_exporter": "python",
   "pygments_lexer": "ipython3",
   "version": "3.9.13"
  }
 },
 "nbformat": 4,
 "nbformat_minor": 5
}
